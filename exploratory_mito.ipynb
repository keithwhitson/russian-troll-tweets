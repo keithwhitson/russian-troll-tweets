{
 "cells": [
  {
   "cell_type": "code",
   "execution_count": 1,
   "metadata": {},
   "outputs": [
    {
     "data": {
      "application/vnd.jupyter.widget-view+json": {
       "model_id": "359d8a12b3254667a3f67cdc0df9d79b",
       "version_major": 2,
       "version_minor": 0
      },
      "text/plain": [
       "MitoWidget(analysis_data_json='{\"analysisName\": \"id-deqkpmyqna\", \"analysisToReplay\": null, \"code\": [], \"stepSu…"
      ]
     },
     "metadata": {},
     "output_type": "display_data"
    }
   ],
   "source": [
    "import mitosheet\n",
    "mitosheet.sheet(analysis_to_replay=\"id-deqkpmyqna\")"
   ]
  },
  {
   "cell_type": "code",
   "execution_count": null,
   "metadata": {},
   "outputs": [],
   "source": [
    "from mitosheet import *; register_analysis(\"id-deqkpmyqna\");\n",
    "    \n",
    "# Imported IRAhandle_tweets_9.csv\n",
    "import pandas as pd\n",
    "IRAhandle_tweets_9 = pd.read_csv(r'IRAhandle_tweets_9.csv')\n",
    "\n",
    "# Imported IRAhandle_tweets_9.csv\n",
    "import pandas as pd\n",
    "IRAhandle_tweets_9_1 = pd.read_csv(r'IRAhandle_tweets_9.csv')\n",
    "\n",
    "# Imported IRAhandle_tweets_1.csv\n",
    "import pandas as pd\n",
    "IRAhandle_tweets_1 = pd.read_csv(r'IRAhandle_tweets_1.csv')\n",
    "\n",
    "# Imported russian_tweets.csv\n",
    "import pandas as pd\n",
    "russian_tweets = pd.read_csv(r'russian_tweets.csv')\n",
    "\n",
    "# Added column new-column-699a\n",
    "russian_tweets.insert(1, 'new-column-699a', 0)\n",
    "\n",
    "# Added column new-column-3pfz\n",
    "russian_tweets.insert(1, 'new-column-3pfz', 0)\n"
   ]
  }
 ],
 "metadata": {
  "kernelspec": {
   "display_name": "Python 3 (ipykernel)",
   "language": "python",
   "name": "python3"
  },
  "language_info": {
   "codemirror_mode": {
    "name": "ipython",
    "version": 3
   },
   "file_extension": ".py",
   "mimetype": "text/x-python",
   "name": "python",
   "nbconvert_exporter": "python",
   "pygments_lexer": "ipython3",
   "version": "3.9.8"
  }
 },
 "nbformat": 4,
 "nbformat_minor": 4
}
