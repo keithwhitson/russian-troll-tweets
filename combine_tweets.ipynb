{
 "cells": [
  {
   "cell_type": "code",
   "execution_count": 6,
   "metadata": {},
   "outputs": [],
   "source": [
    "import pandas as pd\n",
    "import os"
   ]
  },
  {
   "cell_type": "code",
   "execution_count": 7,
   "metadata": {},
   "outputs": [],
   "source": [
    "all_files = os.listdir(\"/Users/keithwhitson/Projekte/russian-troll-tweets/\")\n",
    "all_files = filter(lambda x: 'csv' in x, all_files)\n",
    "all_files = list(all_files)"
   ]
  },
  {
   "cell_type": "code",
   "execution_count": 9,
   "metadata": {},
   "outputs": [],
   "source": [
    "df = pd.concat(map(lambda file: pd.read_csv(file, low_memory=False), all_files))\n",
    "df[\"external_author_id\"] = df[\"external_author_id\"].astype(str)\n",
    "df['alt_external_id'] = df['alt_external_id'].astype(str)\n",
    "df['tweet_id'] = df['tweet_id'].astype(str)"
   ]
  },
  {
   "cell_type": "code",
   "execution_count": 13,
   "metadata": {},
   "outputs": [],
   "source": [
    "df.to_parquet('russian_tweets.parquet',compression=\"snappy\",partition_cols=[\"author\"])"
   ]
  },
  {
   "cell_type": "code",
   "execution_count": 14,
   "metadata": {},
   "outputs": [],
   "source": [
    "df = pd.read_parquet('russian_tweets.parquet',engine='pyarrow')"
   ]
  },
  {
   "cell_type": "code",
   "execution_count": 17,
   "metadata": {},
   "outputs": [
    {
     "data": {
      "text/html": [
       "<div>\n",
       "<style scoped>\n",
       "    .dataframe tbody tr th:only-of-type {\n",
       "        vertical-align: middle;\n",
       "    }\n",
       "\n",
       "    .dataframe tbody tr th {\n",
       "        vertical-align: top;\n",
       "    }\n",
       "\n",
       "    .dataframe thead th {\n",
       "        text-align: right;\n",
       "    }\n",
       "</style>\n",
       "<table border=\"1\" class=\"dataframe\">\n",
       "  <thead>\n",
       "    <tr style=\"text-align: right;\">\n",
       "      <th></th>\n",
       "      <th>following</th>\n",
       "      <th>followers</th>\n",
       "      <th>updates</th>\n",
       "      <th>retweet</th>\n",
       "      <th>new_june_2018</th>\n",
       "    </tr>\n",
       "  </thead>\n",
       "  <tbody>\n",
       "    <tr>\n",
       "      <th>count</th>\n",
       "      <td>2.946207e+06</td>\n",
       "      <td>2.946207e+06</td>\n",
       "      <td>2.946207e+06</td>\n",
       "      <td>2.946207e+06</td>\n",
       "      <td>2.946207e+06</td>\n",
       "    </tr>\n",
       "    <tr>\n",
       "      <th>mean</th>\n",
       "      <td>3.448728e+03</td>\n",
       "      <td>7.055265e+03</td>\n",
       "      <td>1.051469e+04</td>\n",
       "      <td>4.404246e-01</td>\n",
       "      <td>2.095691e-01</td>\n",
       "    </tr>\n",
       "    <tr>\n",
       "      <th>std</th>\n",
       "      <td>5.625644e+03</td>\n",
       "      <td>1.463594e+04</td>\n",
       "      <td>1.770555e+04</td>\n",
       "      <td>4.964382e-01</td>\n",
       "      <td>4.070012e-01</td>\n",
       "    </tr>\n",
       "    <tr>\n",
       "      <th>min</th>\n",
       "      <td>-1.000000e+00</td>\n",
       "      <td>-1.000000e+00</td>\n",
       "      <td>-1.000000e+00</td>\n",
       "      <td>0.000000e+00</td>\n",
       "      <td>0.000000e+00</td>\n",
       "    </tr>\n",
       "    <tr>\n",
       "      <th>25%</th>\n",
       "      <td>3.350000e+02</td>\n",
       "      <td>3.220000e+02</td>\n",
       "      <td>1.809000e+03</td>\n",
       "      <td>0.000000e+00</td>\n",
       "      <td>0.000000e+00</td>\n",
       "    </tr>\n",
       "    <tr>\n",
       "      <th>50%</th>\n",
       "      <td>1.506000e+03</td>\n",
       "      <td>1.274000e+03</td>\n",
       "      <td>4.361000e+03</td>\n",
       "      <td>0.000000e+00</td>\n",
       "      <td>0.000000e+00</td>\n",
       "    </tr>\n",
       "    <tr>\n",
       "      <th>75%</th>\n",
       "      <td>4.746000e+03</td>\n",
       "      <td>1.085300e+04</td>\n",
       "      <td>1.234300e+04</td>\n",
       "      <td>1.000000e+00</td>\n",
       "      <td>0.000000e+00</td>\n",
       "    </tr>\n",
       "    <tr>\n",
       "      <th>max</th>\n",
       "      <td>7.621000e+04</td>\n",
       "      <td>2.512760e+05</td>\n",
       "      <td>1.661130e+05</td>\n",
       "      <td>1.000000e+00</td>\n",
       "      <td>1.000000e+00</td>\n",
       "    </tr>\n",
       "  </tbody>\n",
       "</table>\n",
       "</div>"
      ],
      "text/plain": [
       "          following     followers       updates       retweet  new_june_2018\n",
       "count  2.946207e+06  2.946207e+06  2.946207e+06  2.946207e+06   2.946207e+06\n",
       "mean   3.448728e+03  7.055265e+03  1.051469e+04  4.404246e-01   2.095691e-01\n",
       "std    5.625644e+03  1.463594e+04  1.770555e+04  4.964382e-01   4.070012e-01\n",
       "min   -1.000000e+00 -1.000000e+00 -1.000000e+00  0.000000e+00   0.000000e+00\n",
       "25%    3.350000e+02  3.220000e+02  1.809000e+03  0.000000e+00   0.000000e+00\n",
       "50%    1.506000e+03  1.274000e+03  4.361000e+03  0.000000e+00   0.000000e+00\n",
       "75%    4.746000e+03  1.085300e+04  1.234300e+04  1.000000e+00   0.000000e+00\n",
       "max    7.621000e+04  2.512760e+05  1.661130e+05  1.000000e+00   1.000000e+00"
      ]
     },
     "execution_count": 17,
     "metadata": {},
     "output_type": "execute_result"
    }
   ],
   "source": [
    "df.describe()"
   ]
  },
  {
   "cell_type": "code",
   "execution_count": 19,
   "metadata": {},
   "outputs": [
    {
     "data": {
      "text/plain": [
       "external_author_id    2946207\n",
       "content               2946206\n",
       "region                2937389\n",
       "language              2946207\n",
       "publish_date          2946207\n",
       "harvested_date        2946207\n",
       "following             2946207\n",
       "followers             2946207\n",
       "updates               2946207\n",
       "post_type             1297582\n",
       "account_type          2946207\n",
       "retweet               2946207\n",
       "account_category      2946207\n",
       "new_june_2018         2946207\n",
       "alt_external_id       2946207\n",
       "tweet_id              2946207\n",
       "article_url           2946207\n",
       "tco1_step1            2100236\n",
       "tco2_step1             711117\n",
       "tco3_step1              15000\n",
       "author                2946207\n",
       "dtype: int64"
      ]
     },
     "execution_count": 19,
     "metadata": {},
     "output_type": "execute_result"
    }
   ],
   "source": [
    "df.count()"
   ]
  },
  {
   "cell_type": "code",
   "execution_count": null,
   "metadata": {},
   "outputs": [],
   "source": []
  }
 ],
 "metadata": {
  "kernelspec": {
   "display_name": "Python 3.9.8 ('.venv': venv)",
   "language": "python",
   "name": "python3"
  },
  "language_info": {
   "codemirror_mode": {
    "name": "ipython",
    "version": 3
   },
   "file_extension": ".py",
   "mimetype": "text/x-python",
   "name": "python",
   "nbconvert_exporter": "python",
   "pygments_lexer": "ipython3",
   "version": "3.9.8"
  },
  "orig_nbformat": 4,
  "vscode": {
   "interpreter": {
    "hash": "8d55260e11b6f97266e30037db23a7179babdd3212d123783739e920733f2238"
   }
  }
 },
 "nbformat": 4,
 "nbformat_minor": 2
}
